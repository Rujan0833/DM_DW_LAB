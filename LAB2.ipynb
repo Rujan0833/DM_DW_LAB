{
  "nbformat": 4,
  "nbformat_minor": 0,
  "metadata": {
    "colab": {
      "provenance": [],
      "mount_file_id": "1Z8CjH19nwsawyV7Fb4Ldc_QkXEhmUMJK",
      "authorship_tag": "ABX9TyOgyR1DnUtBKbY9Z4kzfCNs",
      "include_colab_link": true
    },
    "kernelspec": {
      "name": "python3",
      "display_name": "Python 3"
    },
    "language_info": {
      "name": "python"
    }
  },
  "cells": [
    {
      "cell_type": "markdown",
      "metadata": {
        "id": "view-in-github",
        "colab_type": "text"
      },
      "source": [
        "<a href=\"https://colab.research.google.com/github/Rujan0833/DM_DW_LAB/blob/main/LAB2.ipynb\" target=\"_parent\"><img src=\"https://colab.research.google.com/assets/colab-badge.svg\" alt=\"Open In Colab\"/></a>"
      ]
    },
    {
      "cell_type": "code",
      "execution_count": null,
      "metadata": {
        "colab": {
          "base_uri": "https://localhost:8080/"
        },
        "id": "lHpoB0OU5D-S",
        "outputId": "133eed9c-bafe-43e0-cf1d-0d6dd5453990"
      },
      "outputs": [
        {
          "output_type": "stream",
          "name": "stdout",
          "text": [
            "Requirement already satisfied: mlxtend in /usr/local/lib/python3.11/dist-packages (0.23.4)\n",
            "Requirement already satisfied: scipy>=1.2.1 in /usr/local/lib/python3.11/dist-packages (from mlxtend) (1.15.3)\n",
            "Requirement already satisfied: numpy>=1.16.2 in /usr/local/lib/python3.11/dist-packages (from mlxtend) (2.0.2)\n",
            "Requirement already satisfied: pandas>=0.24.2 in /usr/local/lib/python3.11/dist-packages (from mlxtend) (2.2.2)\n",
            "Requirement already satisfied: scikit-learn>=1.3.1 in /usr/local/lib/python3.11/dist-packages (from mlxtend) (1.6.1)\n",
            "Requirement already satisfied: matplotlib>=3.0.0 in /usr/local/lib/python3.11/dist-packages (from mlxtend) (3.10.0)\n",
            "Requirement already satisfied: joblib>=0.13.2 in /usr/local/lib/python3.11/dist-packages (from mlxtend) (1.5.1)\n",
            "Requirement already satisfied: contourpy>=1.0.1 in /usr/local/lib/python3.11/dist-packages (from matplotlib>=3.0.0->mlxtend) (1.3.2)\n",
            "Requirement already satisfied: cycler>=0.10 in /usr/local/lib/python3.11/dist-packages (from matplotlib>=3.0.0->mlxtend) (0.12.1)\n",
            "Requirement already satisfied: fonttools>=4.22.0 in /usr/local/lib/python3.11/dist-packages (from matplotlib>=3.0.0->mlxtend) (4.58.4)\n",
            "Requirement already satisfied: kiwisolver>=1.3.1 in /usr/local/lib/python3.11/dist-packages (from matplotlib>=3.0.0->mlxtend) (1.4.8)\n",
            "Requirement already satisfied: packaging>=20.0 in /usr/local/lib/python3.11/dist-packages (from matplotlib>=3.0.0->mlxtend) (24.2)\n",
            "Requirement already satisfied: pillow>=8 in /usr/local/lib/python3.11/dist-packages (from matplotlib>=3.0.0->mlxtend) (11.2.1)\n",
            "Requirement already satisfied: pyparsing>=2.3.1 in /usr/local/lib/python3.11/dist-packages (from matplotlib>=3.0.0->mlxtend) (3.2.3)\n",
            "Requirement already satisfied: python-dateutil>=2.7 in /usr/local/lib/python3.11/dist-packages (from matplotlib>=3.0.0->mlxtend) (2.9.0.post0)\n",
            "Requirement already satisfied: pytz>=2020.1 in /usr/local/lib/python3.11/dist-packages (from pandas>=0.24.2->mlxtend) (2025.2)\n",
            "Requirement already satisfied: tzdata>=2022.7 in /usr/local/lib/python3.11/dist-packages (from pandas>=0.24.2->mlxtend) (2025.2)\n",
            "Requirement already satisfied: threadpoolctl>=3.1.0 in /usr/local/lib/python3.11/dist-packages (from scikit-learn>=1.3.1->mlxtend) (3.6.0)\n",
            "Requirement already satisfied: six>=1.5 in /usr/local/lib/python3.11/dist-packages (from python-dateutil>=2.7->matplotlib>=3.0.0->mlxtend) (1.17.0)\n"
          ]
        }
      ],
      "source": [
        "!pip install mlxtend"
      ]
    },
    {
      "cell_type": "code",
      "source": [
        "!pip install PyMuPDF\n"
      ],
      "metadata": {
        "colab": {
          "base_uri": "https://localhost:8080/"
        },
        "id": "CY9kpkWH66XZ",
        "outputId": "2ec9ba97-711e-4c88-a2de-1575c98620a1"
      },
      "execution_count": null,
      "outputs": [
        {
          "output_type": "stream",
          "name": "stdout",
          "text": [
            "Collecting PyMuPDF\n",
            "  Downloading pymupdf-1.26.1-cp39-abi3-manylinux_2_28_x86_64.whl.metadata (3.4 kB)\n",
            "Downloading pymupdf-1.26.1-cp39-abi3-manylinux_2_28_x86_64.whl (24.1 MB)\n",
            "\u001b[2K   \u001b[90m━━━━━━━━━━━━━━━━━━━━━━━━━━━━━━━━━━━━━━━━\u001b[0m \u001b[32m24.1/24.1 MB\u001b[0m \u001b[31m73.2 MB/s\u001b[0m eta \u001b[36m0:00:00\u001b[0m\n",
            "\u001b[?25hInstalling collected packages: PyMuPDF\n",
            "Successfully installed PyMuPDF-1.26.1\n"
          ]
        }
      ]
    },
    {
      "cell_type": "code",
      "source": [
        "from google.colab import files\n",
        "import fitz\n",
        "def read_pdf(file_path):\n",
        "    doc = fitz.open(file_path)\n",
        "    text = \"\"\n",
        "    for page in doc:\n",
        "        text += page.get_text()\n",
        "    return text\n",
        "\n",
        "sports_text = read_pdf(\"sports.pdf\")\n",
        "space_text = read_pdf(\"space.pdf\")"
      ],
      "metadata": {
        "id": "0p6k2a3tACLw"
      },
      "execution_count": null,
      "outputs": []
    },
    {
      "cell_type": "code",
      "source": [
        "def parse(text):\n",
        "    lines = text.strip().split(\"\\n\")\n",
        "    transactions = []\n",
        "    for line in lines[1:]:  # skip header\n",
        "        items = line.split(\",\")[1:]  # skip transaction ID\n",
        "        transactions.append([item.strip() for item in items])\n",
        "    return transactions\n",
        "\n",
        "sports_transactions = parse(sports_text)\n",
        "space_transactions = parse(space_text)\n"
      ],
      "metadata": {
        "id": "uN6D0StcAIH_"
      },
      "execution_count": null,
      "outputs": []
    },
    {
      "cell_type": "code",
      "source": [
        "import pandas as pd\n",
        "from mlxtend.preprocessing import TransactionEncoder\n",
        "\n",
        "def encode(transactions):\n",
        "    te = TransactionEncoder()\n",
        "    te_ary = te.fit(transactions).transform(transactions)\n",
        "    return pd.DataFrame(te_ary, columns=te.columns_)\n",
        "\n",
        "sports_df = encode(sports_transactions)\n",
        "space_df = encode(space_transactions)\n"
      ],
      "metadata": {
        "id": "65gu5vC9AMXD"
      },
      "execution_count": null,
      "outputs": []
    },
    {
      "cell_type": "code",
      "source": [
        "from mlxtend.frequent_patterns import apriori, association_rules\n",
        "\n",
        "def apply_apriori(df, min_support=0.2):\n",
        "    freq_items = apriori(df, min_support=min_support, use_colnames=True)\n",
        "    rules = association_rules(freq_items, metric=\"confidence\", min_threshold=0.6)\n",
        "    return freq_items, rules\n",
        "\n",
        "sports_freq, sports_rules = apply_apriori(sports_df)\n",
        "space_freq, space_rules = apply_apriori(space_df)\n",
        "\n",
        "print(\"Sports - Frequent Itemsets:\\n\", sports_freq)\n",
        "print(\"\\nSports - Association Rules:\\n\", sports_rules[['antecedents','consequents','support','confidence','lift']])\n"
      ],
      "metadata": {
        "colab": {
          "base_uri": "https://localhost:8080/"
        },
        "id": "_M4FiTRjAcCt",
        "outputId": "523c7ed2-37cd-4729-f283-d9796137cfa4"
      },
      "execution_count": null,
      "outputs": [
        {
          "output_type": "stream",
          "name": "stdout",
          "text": [
            "Sports - Frequent Itemsets:\n",
            "      support                                           itemsets\n",
            "0   0.214286                                          (cricket)\n",
            "1   0.571429                                     (cricket ball)\n",
            "2   0.928571                                      (cricket bat)\n",
            "3   0.928571                                         (football)\n",
            "4   0.785714                                           (gloves)\n",
            "5   0.642857                                            (juice)\n",
            "6   0.357143                                     (water bottle)\n",
            "7   0.214286                             (cricket bat, cricket)\n",
            "8   0.214286                                (cricket, football)\n",
            "9   0.571429                        (cricket bat, cricket ball)\n",
            "10  0.500000                           (cricket ball, football)\n",
            "11  0.357143                             (cricket ball, gloves)\n",
            "12  0.285714                              (cricket ball, juice)\n",
            "13  0.214286                       (water bottle, cricket ball)\n",
            "14  0.857143                            (cricket bat, football)\n",
            "15  0.714286                              (cricket bat, gloves)\n",
            "16  0.571429                               (cricket bat, juice)\n",
            "17  0.285714                        (cricket bat, water bottle)\n",
            "18  0.785714                                 (gloves, football)\n",
            "19  0.571429                                  (juice, football)\n",
            "20  0.285714                           (water bottle, football)\n",
            "21  0.571429                                    (juice, gloves)\n",
            "22  0.214286                             (water bottle, gloves)\n",
            "23  0.214286                              (water bottle, juice)\n",
            "24  0.214286                   (cricket bat, cricket, football)\n",
            "25  0.500000              (cricket bat, cricket ball, football)\n",
            "26  0.357143                (cricket bat, cricket ball, gloves)\n",
            "27  0.285714                 (cricket bat, cricket ball, juice)\n",
            "28  0.214286          (cricket bat, cricket ball, water bottle)\n",
            "29  0.357143                   (cricket ball, gloves, football)\n",
            "30  0.214286                    (cricket ball, juice, football)\n",
            "31  0.214286                      (cricket ball, juice, gloves)\n",
            "32  0.714286                    (cricket bat, gloves, football)\n",
            "33  0.500000                     (cricket bat, juice, football)\n",
            "34  0.214286              (cricket bat, water bottle, football)\n",
            "35  0.500000                       (cricket bat, juice, gloves)\n",
            "36  0.571429                          (juice, gloves, football)\n",
            "37  0.214286                   (water bottle, gloves, football)\n",
            "38  0.357143      (cricket bat, cricket ball, gloves, football)\n",
            "39  0.214286       (cricket bat, cricket ball, juice, football)\n",
            "40  0.214286         (cricket bat, cricket ball, juice, gloves)\n",
            "41  0.214286            (cricket ball, juice, gloves, football)\n",
            "42  0.500000             (cricket bat, juice, gloves, football)\n",
            "43  0.214286  (gloves, cricket bat, football, cricket ball, ...\n",
            "\n",
            "Sports - Association Rules:\n",
            "                             antecedents                      consequents  \\\n",
            "0                             (cricket)                    (cricket bat)   \n",
            "1                             (cricket)                       (football)   \n",
            "2                         (cricket bat)                   (cricket ball)   \n",
            "3                        (cricket ball)                    (cricket bat)   \n",
            "4                        (cricket ball)                       (football)   \n",
            "..                                  ...                              ...   \n",
            "105       (cricket ball, juice, gloves)          (cricket bat, football)   \n",
            "106  (cricket bat, cricket ball, juice)               (gloves, football)   \n",
            "107     (cricket ball, juice, football)            (cricket bat, gloves)   \n",
            "108              (cricket ball, gloves)   (cricket bat, juice, football)   \n",
            "109               (cricket ball, juice)  (cricket bat, gloves, football)   \n",
            "\n",
            "      support  confidence      lift  \n",
            "0    0.214286    1.000000  1.076923  \n",
            "1    0.214286    1.000000  1.076923  \n",
            "2    0.571429    0.615385  1.076923  \n",
            "3    0.571429    1.000000  1.076923  \n",
            "4    0.500000    0.875000  0.942308  \n",
            "..        ...         ...       ...  \n",
            "105  0.214286    1.000000  1.166667  \n",
            "106  0.214286    0.750000  0.954545  \n",
            "107  0.214286    1.000000  1.400000  \n",
            "108  0.214286    0.600000  1.200000  \n",
            "109  0.214286    0.750000  1.050000  \n",
            "\n",
            "[110 rows x 5 columns]\n"
          ]
        }
      ]
    },
    {
      "cell_type": "code",
      "source": [
        "from mlxtend.frequent_patterns import fpgrowth\n",
        "\n",
        "def apply_fpgrowth(df, min_support=0.2):\n",
        "    freq_items = fpgrowth(df, min_support=min_support, use_colnames=True)\n",
        "    rules = association_rules(freq_items, metric=\"confidence\", min_threshold=0.6)\n",
        "    return freq_items, rules\n",
        "\n",
        "sports_fp_freq, sports_fp_rules = apply_fpgrowth(sports_df)\n",
        "space_fp_freq, space_fp_rules = apply_fpgrowth(space_df)\n",
        "\n",
        "print(\"Sports - FP-Growth Frequent Itemsets:\\n\", sports_fp_freq)\n",
        "print(\"\\nSports - FP-Growth Association Rules:\\n\", sports_fp_rules[['antecedents','consequents','support','confidence','lift']])\n"
      ],
      "metadata": {
        "colab": {
          "base_uri": "https://localhost:8080/"
        },
        "id": "_UvE5GuGA7V3",
        "outputId": "9e4e5730-8479-4a93-f1b1-c46bc5b70791"
      },
      "execution_count": null,
      "outputs": [
        {
          "output_type": "stream",
          "name": "stdout",
          "text": [
            "Sports - FP-Growth Frequent Itemsets:\n",
            "      support                                           itemsets\n",
            "0   0.928571                                         (football)\n",
            "1   0.928571                                      (cricket bat)\n",
            "2   0.785714                                           (gloves)\n",
            "3   0.642857                                            (juice)\n",
            "4   0.571429                                     (cricket ball)\n",
            "5   0.214286                                          (cricket)\n",
            "6   0.357143                                     (water bottle)\n",
            "7   0.857143                            (cricket bat, football)\n",
            "8   0.785714                                 (gloves, football)\n",
            "9   0.714286                              (cricket bat, gloves)\n",
            "10  0.714286                    (cricket bat, gloves, football)\n",
            "11  0.571429                                    (juice, gloves)\n",
            "12  0.571429                               (cricket bat, juice)\n",
            "13  0.571429                                  (juice, football)\n",
            "14  0.500000                       (cricket bat, juice, gloves)\n",
            "15  0.571429                          (juice, gloves, football)\n",
            "16  0.500000                     (cricket bat, juice, football)\n",
            "17  0.500000             (cricket bat, juice, gloves, football)\n",
            "18  0.571429                        (cricket bat, cricket ball)\n",
            "19  0.500000                           (cricket ball, football)\n",
            "20  0.357143                             (cricket ball, gloves)\n",
            "21  0.285714                              (cricket ball, juice)\n",
            "22  0.500000              (cricket bat, cricket ball, football)\n",
            "23  0.357143                   (cricket ball, gloves, football)\n",
            "24  0.357143                (cricket bat, cricket ball, gloves)\n",
            "25  0.357143      (cricket bat, cricket ball, gloves, football)\n",
            "26  0.285714                 (cricket bat, cricket ball, juice)\n",
            "27  0.214286                      (cricket ball, juice, gloves)\n",
            "28  0.214286                    (cricket ball, juice, football)\n",
            "29  0.214286         (cricket bat, cricket ball, juice, gloves)\n",
            "30  0.214286       (cricket bat, cricket ball, juice, football)\n",
            "31  0.214286            (cricket ball, juice, gloves, football)\n",
            "32  0.214286  (gloves, cricket bat, football, cricket ball, ...\n",
            "33  0.214286                             (cricket bat, cricket)\n",
            "34  0.214286                                (cricket, football)\n",
            "35  0.214286                   (cricket bat, cricket, football)\n",
            "36  0.285714                        (cricket bat, water bottle)\n",
            "37  0.285714                           (water bottle, football)\n",
            "38  0.214286                              (water bottle, juice)\n",
            "39  0.214286                             (water bottle, gloves)\n",
            "40  0.214286                       (water bottle, cricket ball)\n",
            "41  0.214286              (cricket bat, water bottle, football)\n",
            "42  0.214286                   (water bottle, gloves, football)\n",
            "43  0.214286          (cricket bat, cricket ball, water bottle)\n",
            "\n",
            "Sports - FP-Growth Association Rules:\n",
            "                       antecedents                  consequents   support  \\\n",
            "0                   (cricket bat)                   (football)  0.857143   \n",
            "1                      (football)                (cricket bat)  0.857143   \n",
            "2                        (gloves)                   (football)  0.785714   \n",
            "3                      (football)                     (gloves)  0.785714   \n",
            "4                   (cricket bat)                     (gloves)  0.714286   \n",
            "..                            ...                          ...       ...   \n",
            "105      (water bottle, football)                     (gloves)  0.214286   \n",
            "106                (water bottle)           (gloves, football)  0.214286   \n",
            "107   (cricket bat, water bottle)               (cricket ball)  0.214286   \n",
            "108  (water bottle, cricket ball)                (cricket bat)  0.214286   \n",
            "109                (water bottle)  (cricket bat, cricket ball)  0.214286   \n",
            "\n",
            "     confidence      lift  \n",
            "0      0.923077  0.994083  \n",
            "1      0.923077  0.994083  \n",
            "2      1.000000  1.076923  \n",
            "3      0.846154  1.076923  \n",
            "4      0.769231  0.979021  \n",
            "..          ...       ...  \n",
            "105    0.750000  0.954545  \n",
            "106    0.600000  0.763636  \n",
            "107    0.750000  1.312500  \n",
            "108    1.000000  1.076923  \n",
            "109    0.600000  1.050000  \n",
            "\n",
            "[110 rows x 5 columns]\n"
          ]
        }
      ]
    },
    {
      "cell_type": "code",
      "source": [
        "def compare_results(name, apriori_rules, fp_rules):\n",
        "    print(f\"---- {name} ----\")\n",
        "    print(f\"Apriori Rules Count: {len(apriori_rules)}\")\n",
        "    print(f\"FP-Growth Rules Count: {len(fp_rules)}\")\n",
        "    print()\n",
        "\n",
        "compare_results(\"Sports\", sports_rules, sports_fp_rules)\n",
        "compare_results(\"Space\", space_rules, space_fp_rules)\n"
      ],
      "metadata": {
        "colab": {
          "base_uri": "https://localhost:8080/"
        },
        "id": "o7ys9RkGA_Gq",
        "outputId": "21a968fe-91a6-4f19-b57c-512347adac24"
      },
      "execution_count": null,
      "outputs": [
        {
          "output_type": "stream",
          "name": "stdout",
          "text": [
            "---- Sports ----\n",
            "Apriori Rules Count: 110\n",
            "FP-Growth Rules Count: 110\n",
            "\n",
            "---- Space ----\n",
            "Apriori Rules Count: 3\n",
            "FP-Growth Rules Count: 3\n",
            "\n"
          ]
        }
      ]
    }
  ]
}